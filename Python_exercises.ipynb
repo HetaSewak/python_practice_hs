{
 "cells": [
  {
   "cell_type": "code",
   "execution_count": 1,
   "id": "4546ffd8",
   "metadata": {},
   "outputs": [
    {
     "name": "stdout",
     "output_type": "stream",
     "text": [
      "Enter the first number13\n",
      "Enter the second number14\n",
      "13 14\n",
      "14 13\n"
     ]
    }
   ],
   "source": [
    "#swap the number without the third variable\n",
    "x=int(input(\"Enter the first number\"))\n",
    "y=int(input(\"Enter the second number\"))\n",
    "print(x,y)\n",
    "\n",
    "x=x+y\n",
    "y=x-y\n",
    "x=x-y\n",
    "\n",
    "print(x,y)"
   ]
  },
  {
   "cell_type": "code",
   "execution_count": 29,
   "id": "cdfd1ddd",
   "metadata": {},
   "outputs": [
    {
     "name": "stdout",
     "output_type": "stream",
     "text": [
      "Enter the number 9876\n",
      "6789\n"
     ]
    }
   ],
   "source": [
    "#integer of a number in reverse order\n",
    "n =input(\"Enter the number \")\n",
    "y=n[ ::-1]\n",
    "# k=\"\".join(y)\n",
    "# print(k)\n",
    "print(y)"
   ]
  },
  {
   "cell_type": "code",
   "execution_count": 28,
   "id": "00f5f3fa",
   "metadata": {},
   "outputs": [
    {
     "name": "stdout",
     "output_type": "stream",
     "text": [
      "Enter the letters seperated by commas: h,e,l,l,o\n",
      "hello\n",
      "olleh\n"
     ]
    }
   ],
   "source": [
    "#characters in reverse order\n",
    "m =input(\"Enter the letters seperated by commas: \")\n",
    "z=m.split(\",\")\n",
    "l=\"\".join(z)\n",
    "reversed_l=l[::-1]\n",
    "print(l)\n",
    "print(reversed_l)"
   ]
  },
  {
   "cell_type": "code",
   "execution_count": 22,
   "id": "71103cd6",
   "metadata": {},
   "outputs": [
    {
     "name": "stdout",
     "output_type": "stream",
     "text": [
      "Hello\n"
     ]
    }
   ],
   "source": [
    "words = ['H', 'e', 'l', 'l', 'o']\n",
    "k = \"\".join(words)\n",
    "print(k)"
   ]
  },
  {
   "cell_type": "code",
   "execution_count": 11,
   "id": "017b79d3",
   "metadata": {},
   "outputs": [
    {
     "name": "stdout",
     "output_type": "stream",
     "text": [
      "Enter the number :247\n",
      "13\n"
     ]
    }
   ],
   "source": [
    "#sum of 3 digits\n",
    "x=int(input(\"Enter the number :\"))\n",
    "a=x%10\n",
    "num=x//10\n",
    "b=num%10\n",
    "c=num//10\n",
    "\n",
    "print(a+b+c)"
   ]
  },
  {
   "cell_type": "code",
   "execution_count": 19,
   "id": "50aec9b1",
   "metadata": {},
   "outputs": [
    {
     "name": "stdout",
     "output_type": "stream",
     "text": [
      "Enter the number :1234\n",
      "4321\n",
      "False\n"
     ]
    }
   ],
   "source": [
    "# reverse a 4 digit number and also check if it is reversed or not\n",
    "x=int(input(\"Enter the number :\"))\n",
    "a=x%10\n",
    "num=x//10\n",
    "b=num%10\n",
    "num2=num//10\n",
    "c=num2%10\n",
    "d=num2//10\n",
    "rev=a*1000+b*100+c*10+d\n",
    "print(rev)\n",
    "\n",
    "if x==rev:\n",
    "    print(True)\n",
    "else:\n",
    "    print(False)"
   ]
  },
  {
   "cell_type": "code",
   "execution_count": 2,
   "id": "bc8dffbc",
   "metadata": {},
   "outputs": [
    {
     "name": "stdout",
     "output_type": "stream",
     "text": [
      "x1: 5\n",
      "y1: 4\n",
      "x2: 3\n",
      "y2: 2\n",
      "====================================================================================================\n",
      "Eucledian distance for given co-ordinate will be 2.83\n"
     ]
    }
   ],
   "source": [
    "#euclidian distance between 2 coordinates\n",
    "import math\n",
    "x1=float(input(\"x1: \"))\n",
    "y1=float(input(\"y1: \"))\n",
    "x2=float(input(\"x2: \"))\n",
    "y2=float(input(\"y2: \"))\n",
    "\n",
    "x=[x1,y1]\n",
    "y=[x2,y2]\n",
    "\n",
    "print(\"=\"*100)\n",
    "\n",
    "print(\"Eucledian distance for given co-ordinate will be\",round(math.dist(x,y),2))"
   ]
  },
  {
   "cell_type": "code",
   "execution_count": 3,
   "id": "384135fa",
   "metadata": {},
   "outputs": [
    {
     "name": "stdout",
     "output_type": "stream",
     "text": [
      "x1: 8\n",
      "y1: 7\n",
      "z1: 4\n",
      "x2: 5\n",
      "y2: 6\n",
      "z2: 1\n",
      "====================================================================================================\n",
      "Eucledian distance for given co-ordinate will be 4.36\n"
     ]
    }
   ],
   "source": [
    "#euclidian distance between 3 coordinates\n",
    "import math\n",
    "x1=float(input(\"x1: \"))\n",
    "y1=float(input(\"y1: \"))\n",
    "z1=float(input(\"z1: \"))\n",
    "x2=float(input(\"x2: \"))\n",
    "y2=float(input(\"y2: \"))\n",
    "z2=float(input(\"z2: \"))\n",
    "\n",
    "x=[x1,y1,z1]\n",
    "y=[x2,y2,z2]\n",
    "\n",
    "print(\"=\"*100)\n",
    "\n",
    "print(\"Eucledian distance for given co-ordinate will be\",round(math.dist(x,y),2))"
   ]
  },
  {
   "cell_type": "code",
   "execution_count": null,
   "id": "559f2fe9",
   "metadata": {},
   "outputs": [],
   "source": [
    "#if number is divisible by 3 and 6\n"
   ]
  }
 ],
 "metadata": {
  "kernelspec": {
   "display_name": "Python 3 (ipykernel)",
   "language": "python",
   "name": "python3"
  },
  "language_info": {
   "codemirror_mode": {
    "name": "ipython",
    "version": 3
   },
   "file_extension": ".py",
   "mimetype": "text/x-python",
   "name": "python",
   "nbconvert_exporter": "python",
   "pygments_lexer": "ipython3",
   "version": "3.10.9"
  }
 },
 "nbformat": 4,
 "nbformat_minor": 5
}
